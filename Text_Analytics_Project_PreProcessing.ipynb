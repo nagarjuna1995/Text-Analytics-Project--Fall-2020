{
 "cells": [
  {
   "cell_type": "markdown",
   "metadata": {},
   "source": [
    "**Text Analytics Project**\n",
    "**Problem statement**: Identifying memes with hate or sarcastic content by mining the text and Image information using Machine learning models.\n",
    "**Goal of this Project**: Building a decent classifier which can understand the sarcasm and hate by using supervised Machine learning \n",
    "**Tools used**: Python\n",
    "\n",
    "\n",
    "\n",
    "\n",
    "\n",
    "\n",
    "**Notebook Roadmap**:\n",
    "### Used Google VISION API to extract the text out of the memes\n",
    "1. Loading the Memes dataset(Manually labelled sarcasm and category lables apart from hateful/non-hateful labels)\n",
    "2. Pre-processing & Cleaning\n",
    "  1. Expanding the contractions\n",
    "  2. Word segmentation\n",
    "  3. Spelling correction using language model\n",
    "  4. Basic cleaning(Removing ascii characters, removing numbers, custom contractions)\n",
    "  5. Sentiment Analysis(Exploratory purposes - didn't use in the model building)"
   ]
  },
  {
   "cell_type": "code",
   "execution_count": 1,
   "metadata": {},
   "outputs": [],
   "source": [
    "#importing all the libraries\n",
    "import os\n",
    "import re\n",
    "import pandas as pd\n",
    "import numpy as np\n",
    "import cv2\n",
    "import pytesseract\n",
    "import matplotlib.pyplot as plt\n",
    "from pytesseract import Output\n",
    "import nltk\n",
    "from nltk import FreqDist\n",
    "from textblob import TextBlob\n",
    "import seaborn as sns\n",
    "from symspellpy.symspellpy import SymSpell\n",
    "from keras.utils import to_categorical \n",
    "import pkg_resources\n",
    "#pip install lmproof\n",
    "from sentistrength import PySentiStr\n",
    "import spellchecker\n",
    "from textblob import TextBlob\n",
    "import lmproof\n",
    "from spellchecker import SpellChecker\n",
    "spell = SpellChecker()\n",
    "import spacy\n",
    "import en_core_web_sm\n",
    "# nlp = en_core_web_sm.load()"
   ]
  },
  {
   "cell_type": "code",
   "execution_count": 4,
   "metadata": {},
   "outputs": [],
   "source": [
    "#changing the directory to the data directory\n",
    "path = 'C:/Users/nagar/OneDrive/Desktop/Facebook meme data'\n",
    "os.chdir(path)"
   ]
  },
  {
   "cell_type": "code",
   "execution_count": 127,
   "metadata": {},
   "outputs": [],
   "source": [
    "#loading only required columns\n",
    "names = [ 'Image_id', 'Hate_label', 'FB_text', 'google_raw_text',\n",
    "       'label_list', 'object_list', 'Semi_cleaned_text', 'Sarcasm_label',\n",
    "       'Category']\n",
    "df = pd.read_csv('Final_data.csv',names= names,header=0)\n",
    "df.dropna(inplace=True)"
   ]
  },
  {
   "cell_type": "code",
   "execution_count": 128,
   "metadata": {},
   "outputs": [],
   "source": [
    "#changing the type of labels\n",
    "df['Category'] = df['Category'].astype('int32')\n",
    "df['Sarcasm_label'] = df['Sarcasm_label'].astype('int32')\n",
    "df = df.reset_index()\n",
    "df_original = df.copy()"
   ]
  },
  {
   "cell_type": "markdown",
   "metadata": {},
   "source": [
    "# Pre-processing and cleaning"
   ]
  },
  {
   "cell_type": "markdown",
   "metadata": {},
   "source": [
    "**Why do we have to do a lot of pre-processing & cleaning using language models?**\n",
    "1. Google API extracted text was so messy and it needs a lot of cleaning\n",
    "2. Lot of memes has words like(af,asf,I'm)--> we used custom contractions & language model(pycontractions- glove twitter model) to fix the contractions as there are so many internet slang words, it is better to use glove twitter to resolve contractions\n",
    "3. Word segmentation has to be done as there were few memes with confusing text with mix up of words adjacent to each other(we have used sym spell dictionary method to tackle this)\n",
    "4. A lot of memes generally have spelling mistakes, to restore the context, we have used language model to fix it\n",
    "5. we also did basic cleaning to handle the text for sentiment analysis and for modelling too\n",
    "\n",
    "**Why language models and why not other things like dictionary based approach or something simple?**\n",
    "Language models tend to restore or correct the context more because they must have pre-trained on lot of examples and it would outperform dictionary based methods when we want to restore the symantics"
   ]
  },
  {
   "cell_type": "markdown",
   "metadata": {},
   "source": [
    "1. Contractions --> converting I'm to I am and so on"
   ]
  },
  {
   "cell_type": "code",
   "execution_count": 8,
   "metadata": {},
   "outputs": [],
   "source": [
    "from pycontractions import Contractions\n",
    "cont = Contractions(api_key=\"glove-twitter-100\")\n",
    "cont.load_models()"
   ]
  },
  {
   "cell_type": "code",
   "execution_count": 27,
   "metadata": {},
   "outputs": [],
   "source": [
    "def contractions_model(df):\n",
    "    text_list = df.to_list()\n",
    "    text_list = list(cont.expand_texts(text_list))\n",
    "    return text_list"
   ]
  },
  {
   "cell_type": "markdown",
   "metadata": {},
   "source": [
    "2. Word segmentation(\"idon't thinkso thisisa rightplace\") --> \"i don't think so this is a right place\""
   ]
  },
  {
   "cell_type": "code",
   "execution_count": 12,
   "metadata": {},
   "outputs": [],
   "source": [
    "# word segmentation\n",
    "# Set max_dictionary_edit_distance to avoid spelling correction\n",
    "sym_spell = SymSpell(max_dictionary_edit_distance=0, prefix_length=7)\n",
    "dictionary_path = pkg_resources.resource_filename(\"symspellpy\", \"frequency_dictionary_en_82_765.txt\")\n",
    "# term_index is the column of the term and count_index is the\n",
    "# column of the term frequency\n",
    "sym_spell.load_dictionary(dictionary_path, term_index=0, count_index=1)\n",
    "def word_segmentation(text):\n",
    "    # a sentence without any spaces\n",
    "    result = sym_spell.word_segmentation(text)\n",
    "    return result.corrected_string"
   ]
  },
  {
   "cell_type": "markdown",
   "metadata": {},
   "source": [
    "3. Correcting the spelling using lmProof Language model"
   ]
  },
  {
   "cell_type": "code",
   "execution_count": 13,
   "metadata": {},
   "outputs": [
    {
     "name": "stderr",
     "output_type": "stream",
     "text": [
      "C:\\Users\\nagar\\anaconda3\\lib\\site-packages\\transformers\\modeling_auto.py:821: FutureWarning: The class `AutoModelWithLMHead` is deprecated and will be removed in a future version. Please use `AutoModelForCausalLM` for causal language models, `AutoModelForMaskedLM` for masked language models and `AutoModelForSeq2SeqLM` for encoder-decoder models.\n",
      "  warnings.warn(\n"
     ]
    }
   ],
   "source": [
    "import lmproof\n",
    "import spacy\n",
    "import en_core_web_sm\n",
    "proof_reader = lmproof.load(\"en\")\n",
    "def correct_spelling(text):\n",
    "    return proof_reader.proofread(text)"
   ]
  },
  {
   "cell_type": "markdown",
   "metadata": {},
   "source": [
    "Basic Cleaning"
   ]
  },
  {
   "cell_type": "code",
   "execution_count": 91,
   "metadata": {},
   "outputs": [],
   "source": [
    "def basic_cleaning(text):\n",
    "    text = re.sub(r'[A-Z]{2,}',' ',text)\n",
    "    text = text.lower()\n",
    "    text = re.sub(r'[^a-zA-Z]',' ',text)\n",
    "    text = re.sub(r' +',' ',text)\n",
    "    words = nltk.tokenize.word_tokenize(text)\n",
    "#     lemma = nltk.stem.WordNetLemmatizer()\n",
    "#     lemmatized = [lemma.lemmatize(w) for w in words]\n",
    "    return ' '.join(words)\n",
    "    "
   ]
  },
  {
   "cell_type": "markdown",
   "metadata": {},
   "source": [
    "Main Cleaning function"
   ]
  },
  {
   "cell_type": "code",
   "execution_count": 110,
   "metadata": {},
   "outputs": [],
   "source": [
    "import contractions"
   ]
  },
  {
   "cell_type": "code",
   "execution_count": 126,
   "metadata": {},
   "outputs": [],
   "source": [
    "#Removing Non-ASCII characters\n",
    "def cleaning_text(text):\n",
    "    text = re.sub(r'[^\\x00-\\x7F]+','', text)\n",
    "    text = re.sub(r'\\s+',' ',text)\n",
    "    text = contractions.fix(text)\n",
    "    text = word_segmentation(text)\n",
    "    return text"
   ]
  },
  {
   "cell_type": "code",
   "execution_count": 129,
   "metadata": {},
   "outputs": [
    {
     "name": "stderr",
     "output_type": "stream",
     "text": [
      "<ipython-input-129-5b9093e28905>:2: SettingWithCopyWarning: \n",
      "A value is trying to be set on a copy of a slice from a DataFrame\n",
      "\n",
      "See the caveats in the documentation: https://pandas.pydata.org/pandas-docs/stable/user_guide/indexing.html#returning-a-view-versus-a-copy\n",
      "  df['Semi_cleaned_text'][i] = cleaning_text(df['Semi_cleaned_text'][i])\n"
     ]
    }
   ],
   "source": [
    "for i in range(0,len(df)):\n",
    "    df['Semi_cleaned_text'][i] = cleaning_text(df['Semi_cleaned_text'][i])"
   ]
  },
  {
   "cell_type": "code",
   "execution_count": 130,
   "metadata": {},
   "outputs": [],
   "source": [
    "df['Semi_cleaned_text'] = contractions_model(df['Semi_cleaned_text'])"
   ]
  },
  {
   "cell_type": "code",
   "execution_count": 131,
   "metadata": {},
   "outputs": [
    {
     "name": "stderr",
     "output_type": "stream",
     "text": [
      "<ipython-input-131-adc5cf8d0c67>:2: SettingWithCopyWarning: \n",
      "A value is trying to be set on a copy of a slice from a DataFrame\n",
      "\n",
      "See the caveats in the documentation: https://pandas.pydata.org/pandas-docs/stable/user_guide/indexing.html#returning-a-view-versus-a-copy\n",
      "  df['Semi_cleaned_text'][i] = basic_cleaning(df['Semi_cleaned_text'][i])\n"
     ]
    }
   ],
   "source": [
    "for i in range(0,len(df)):\n",
    "    df['Semi_cleaned_text'][i] = basic_cleaning(df['Semi_cleaned_text'][i])"
   ]
  },
  {
   "cell_type": "code",
   "execution_count": 132,
   "metadata": {},
   "outputs": [
    {
     "name": "stderr",
     "output_type": "stream",
     "text": [
      "<ipython-input-132-5745a80a482a>:2: SettingWithCopyWarning: \n",
      "A value is trying to be set on a copy of a slice from a DataFrame\n",
      "\n",
      "See the caveats in the documentation: https://pandas.pydata.org/pandas-docs/stable/user_guide/indexing.html#returning-a-view-versus-a-copy\n",
      "  df['Semi_cleaned_text'][i] = correct_spelling(df['Semi_cleaned_text'][i])\n"
     ]
    }
   ],
   "source": [
    "for i in range(0,len(df)):\n",
    "    df['Semi_cleaned_text'][i] = correct_spelling(df['Semi_cleaned_text'][i])"
   ]
  },
  {
   "cell_type": "markdown",
   "metadata": {},
   "source": [
    "Custom contractions for replacing misspelled words and confusing words for sentiment analysis and better word2vec embeddings"
   ]
  },
  {
   "cell_type": "code",
   "execution_count": 171,
   "metadata": {},
   "outputs": [],
   "source": [
    "df = pd.read_csv('New_df.csv')"
   ]
  },
  {
   "cell_type": "markdown",
   "metadata": {},
   "source": [
    "Checking for misspelled words to make custom contractions list"
   ]
  },
  {
   "cell_type": "code",
   "execution_count": 134,
   "metadata": {},
   "outputs": [],
   "source": [
    "text = ' '\n",
    "for i in range(len(df['Semi_cleaned_text'])):\n",
    "    text = text + ' ' + df['Semi_cleaned_text'][i]\n",
    "words = list(set(text.split()))"
   ]
  },
  {
   "cell_type": "code",
   "execution_count": 119,
   "metadata": {},
   "outputs": [],
   "source": [
    "import enchant\n",
    "Eng_dict = enchant.Dict(\"en_US\")\n",
    "Corpus_words= words\n",
    "Checked_Word_List=[]\n",
    "UnChecked_Word_List=[]\n",
    "for word in Corpus_words:\n",
    "    if Eng_dict.check(word)==True:\n",
    "        Checked_Word_List.append(word)\n",
    "    else:\n",
    "        UnChecked_Word_List.append(word)\n",
    "\n",
    "from spellchecker import SpellChecker\n",
    "spell = SpellChecker()\n",
    "# find those words that may be misspelled\n",
    "misspelled = spell.unknown(words)"
   ]
  },
  {
   "cell_type": "code",
   "execution_count": 165,
   "metadata": {},
   "outputs": [],
   "source": [
    "custom_dict = {\n",
    "    'fuk':'fuck',\n",
    "    'af':'as fuck',\n",
    "    'asf':'as fuck',\n",
    "    'n': 'and',\n",
    "    'tom':'from',\n",
    "    'wite': 'white',\n",
    "    'kenned':'ken',\n",
    "    'pedo': 'pedofile',\n",
    "    'vel':' ',\n",
    "    'aaf':' ',\n",
    "    'jou': 'so you',\n",
    "    'adhd': 'attention-deficit hyperactivity disorder',\n",
    "    'conf': 'confused',\n",
    "    'idler':'hitler',\n",
    "    'nti': 'attention',\n",
    "    'tric':'tricare',\n",
    "    'znd':'second',\n",
    "    'congressed':'congress',\n",
    "    'clhwitz': 'auschwitz',\n",
    "    'colo':'colorized',\n",
    "    'pend':'happened',\n",
    "    'lem':'them',\n",
    "    'tel':'tell',\n",
    "    'cams':'canada',\n",
    "    'aya in':'again',\n",
    "    'whited':'white',\n",
    "    'cuter':'cute',\n",
    "    'irk' : 'irritate',\n",
    "    'tran':'tranny',\n",
    "    'rehab': 'rehabilitation',\n",
    "    'wi hens': 'when',\n",
    "    'imma':'i am going to',\n",
    "    'eww':'disgust',\n",
    "    'tromp':'trump',\n",
    "    'oof':'extreme pain',\n",
    "    'cuck':'cock',\n",
    "    'meathead':'stupid',\n",
    "    'hornier':'horny',\n",
    "    'quran':'quran',\n",
    "    'bruh':'bro',\n",
    "    'poops':'poop',\n",
    "    'burqa':'burqa',\n",
    "    'dumpster':'dumpster',\n",
    "    'chemo':'chemo therapy',\n",
    "    'rofl':'roll on the floor laughing',\n",
    "    'isl':'islam',\n",
    "    'nyt':'new york times',\n",
    "    'trons':'trans',\n",
    "    'fwd':'forward',\n",
    "    'whies':'whites',\n",
    "    'iynch':'lynch',\n",
    "    'dumber':'dumb',\n",
    "    'olla':'alla',\n",
    "    'tts':'tits',\n",
    "    'uive':'give',\n",
    "    'muh':'much',\n",
    "    'yolo':'you only live once',\n",
    "    'ghns':'guns',\n",
    "    'paie':'paid',\n",
    "    'qum':'cum',\n",
    "    'cuter':'cute',\n",
    "    'jaly':'july',\n",
    "    'kool':'cool',\n",
    "    'wite':'white',\n",
    "    'arb':'arab',\n",
    "    'uld':'old',\n",
    "    'vagine':'vagina',\n",
    "    'fah':'far',\n",
    "    'gayest':'gay',\n",
    "    'uty':'duty',\n",
    "    'wyo':'who',\n",
    "    'ery':'very',\n",
    "    'yot':'you',\n",
    "    'nte':'note',\n",
    "    'raci':'race',\n",
    "    'ilh':'i will',\n",
    "    'mlk':'milk',\n",
    "    'bruhh':'bro',\n",
    "    'tney':'they',\n",
    "    'mussing':'missing',\n",
    "    'frt':'fart'\n",
    "    \n",
    "}"
   ]
  },
  {
   "cell_type": "code",
   "execution_count": 169,
   "metadata": {},
   "outputs": [],
   "source": [
    "#fixing custom contractions\n",
    "def expand_contractions(text):\n",
    "    temp = text.split() \n",
    "    res = [] \n",
    "    for wrd in temp: \n",
    "        res.append(custom_dict.get(wrd, wrd)) \n",
    "    res = ' '.join(res) \n",
    "    return str(res)\n"
   ]
  },
  {
   "cell_type": "code",
   "execution_count": 172,
   "metadata": {},
   "outputs": [
    {
     "name": "stderr",
     "output_type": "stream",
     "text": [
      "<ipython-input-172-2c3d01488ecc>:2: SettingWithCopyWarning: \n",
      "A value is trying to be set on a copy of a slice from a DataFrame\n",
      "\n",
      "See the caveats in the documentation: https://pandas.pydata.org/pandas-docs/stable/user_guide/indexing.html#returning-a-view-versus-a-copy\n",
      "  df['Semi_cleaned_text'][i] = expand_contractions(df['Semi_cleaned_text'][i])\n"
     ]
    }
   ],
   "source": [
    "for i in range(0,len(df)):\n",
    "    df['Semi_cleaned_text'][i] = expand_contractions(df['Semi_cleaned_text'][i])"
   ]
  },
  {
   "cell_type": "code",
   "execution_count": 176,
   "metadata": {},
   "outputs": [],
   "source": [
    "df.to_csv('final_dataframe.csv')"
   ]
  },
  {
   "cell_type": "markdown",
   "metadata": {},
   "source": [
    "Sentiment Analysis - Exploratory purposes -- haven't used in the modelling"
   ]
  },
  {
   "cell_type": "code",
   "execution_count": 182,
   "metadata": {},
   "outputs": [],
   "source": [
    "#sentiment analysis\n",
    "senti = PySentiStr()\n",
    "senti.setSentiStrengthLanguageFolderPath(\"C:/Users/nagar/OneDrive/Desktop/Facebook meme data/Senti/SentiStrength_Data\")\n",
    "senti.setSentiStrengthPath('C:/Users/nagar/OneDrive/Desktop/Facebook meme data/Senti/SentiStrength.jar')\n",
    "def sentiment_analysis(df):\n",
    "    sentiment = []\n",
    "    for i in range(len(df)):\n",
    "        sentiment.append(senti.getSentiment(df[i],score= 'scale'))\n",
    "    return sentiment"
   ]
  },
  {
   "cell_type": "code",
   "execution_count": 189,
   "metadata": {},
   "outputs": [],
   "source": [
    "sentiment_list = sentiment_analysis(df['Semi_cleaned_text'])"
   ]
  },
  {
   "cell_type": "code",
   "execution_count": 191,
   "metadata": {},
   "outputs": [],
   "source": [
    "df['Sentiment_Scores'] = sentiment_list"
   ]
  },
  {
   "cell_type": "code",
   "execution_count": 198,
   "metadata": {},
   "outputs": [
    {
     "name": "stderr",
     "output_type": "stream",
     "text": [
      "<ipython-input-198-77e3cb159140>:2: SettingWithCopyWarning: \n",
      "A value is trying to be set on a copy of a slice from a DataFrame\n",
      "\n",
      "See the caveats in the documentation: https://pandas.pydata.org/pandas-docs/stable/user_guide/indexing.html#returning-a-view-versus-a-copy\n",
      "  df['Sentiment_Scores'][i] = df['Sentiment_Scores'][i][0]\n"
     ]
    }
   ],
   "source": [
    "for i in range(len(df)):\n",
    "    df['Sentiment_Scores'][i] = df['Sentiment_Scores'][i][0]  "
   ]
  },
  {
   "cell_type": "code",
   "execution_count": 199,
   "metadata": {},
   "outputs": [
    {
     "data": {
      "text/plain": [
       "Text(0, 0.5, 'count of memes')"
      ]
     },
     "execution_count": 199,
     "metadata": {},
     "output_type": "execute_result"
    },
    {
     "data": {
      "image/png": "[encoded data removed]",
      "text/plain": [
       "<Figure size 432x288 with 1 Axes>"
      ]
     },
     "metadata": {
      "needs_background": "light"
     },
     "output_type": "display_data"
    }
   ],
   "source": [
    "plt.hist(df['Sentiment_Scores'], bins = 15)\n",
    "plt.title(f'Meme Sentiment scores')\n",
    "plt.xlabel('Sentiment score')\n",
    "plt.ylabel('count of memes')"
   ]
  },
  {
   "cell_type": "code",
   "execution_count": 215,
   "metadata": {},
   "outputs": [
    {
     "data": {
      "text/plain": [
       "(array([  5.,  97., 215.,   0., 351., 697.,   0., 157.,  57.,   4.]),\n",
       " array([-4.0, -3.3, -2.6, -1.9000000000000004, -1.2000000000000002, -0.5,\n",
       "        0.1999999999999993, 0.8999999999999995, 1.5999999999999996, 2.3,\n",
       "        3.0], dtype=object),\n",
       " <a list of 10 Patch objects>)"
      ]
     },
     "execution_count": 215,
     "metadata": {},
     "output_type": "execute_result"
    },
    {
     "data": {
      "image/png": "[encoded data removed]",
      "text/plain": [
       "<Figure size 432x288 with 1 Axes>"
      ]
     },
     "metadata": {
      "needs_background": "light"
     },
     "output_type": "display_data"
    }
   ],
   "source": [
    "#grouping the dataset by party to get the average estimates of vocabulary for different parties\n",
    "hate_df = df[df['Hate_label'] == 1]\n",
    "plt.hist(hate_df['Sentiment_Scores'])\n",
    "# plt.title('Avg vocabulary in different parties')"
   ]
  },
  {
   "cell_type": "code",
   "execution_count": 216,
   "metadata": {},
   "outputs": [
    {
     "data": {
      "text/plain": [
       "(array([6.000e+00, 1.430e+02, 4.070e+02, 6.400e+02, 0.000e+00, 1.362e+03,\n",
       "        3.540e+02, 1.670e+02, 7.000e+00, 1.000e+00]),\n",
       " array([-4.0, -3.2, -2.4, -1.5999999999999996, -0.7999999999999998, 0.0,\n",
       "        0.8000000000000007, 1.6000000000000005, 2.4000000000000004, 3.2,\n",
       "        4.0], dtype=object),\n",
       " <a list of 10 Patch objects>)"
      ]
     },
     "execution_count": 216,
     "metadata": {},
     "output_type": "execute_result"
    },
    {
     "data": {
      "image/png": "[encoded data removed]",
      "text/plain": [
       "<Figure size 432x288 with 1 Axes>"
      ]
     },
     "metadata": {
      "needs_background": "light"
     },
     "output_type": "display_data"
    }
   ],
   "source": [
    "#grouping the dataset by party to get the average estimates of vocabulary for different parties\n",
    "sarcasm_df = df[df['Sarcasm_label'] == 1]\n",
    "plt.hist(sarcasm_df['Sentiment_Scores'])\n",
    "# plt.title('Avg vocabulary in different parties')"
   ]
  },
  {
   "cell_type": "markdown",
   "metadata": {},
   "source": [
    "From the sentiment analysis for overall dataset, hate only and sarcasm only, we can see that negative trend for overall and the sarcasm only is close enough, this could be because there is a lot of sarcasm in our memes(mostly abusive). Sentistrength has given us better insights than other tools like textblob or NLTK vader because sentistrength has been trained on short texts like tweets & internet slang"
   ]
  },
  {
   "cell_type": "code",
   "execution_count": 326,
   "metadata": {},
   "outputs": [],
   "source": [
    "df = pd.read_csv('New_df.csv')"
   ]
  }
 ],
 "metadata": {
  "kernelspec": {
   "display_name": "Python 3",
   "language": "python",
   "name": "python3"
  },
  "language_info": {
   "codemirror_mode": {
    "name": "ipython",
    "version": 3
   },
   "file_extension": ".py",
   "mimetype": "text/x-python",
   "name": "python",
   "nbconvert_exporter": "python",
   "pygments_lexer": "ipython3",
   "version": "3.8.3"
  }
 },
 "nbformat": 4,
 "nbformat_minor": 4
}
